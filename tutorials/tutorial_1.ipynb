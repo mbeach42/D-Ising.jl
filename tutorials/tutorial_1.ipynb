{
 "cells": [
  {
   "cell_type": "markdown",
   "metadata": {},
   "source": [
    "# Tutorial 1\n",
    "\n",
    "Julia supports an advanced type system. This often means before you begin coding, you can think about what the relevant information of the problem is. Similar to Object Orient programming, we can group common ideas into a single type. \n",
    "\n"
   ]
  },
  {
   "cell_type": "code",
   "execution_count": 3,
   "metadata": {},
   "outputs": [],
   "source": [
    "struct Ising{D, T <: AbstractFloat}\n",
    "    dims::Dims{D}\n",
    "    h::T\n",
    "    β::T\n",
    "    spins::Array{Int, D}\n",
    "    cluster::Array{Bool, D}\n",
    "    sites::Array{CartesianIndex{D},D}\n",
    "    neighbours_table::Vector{Array{CartesianIndex{D},D}}\n",
    "end\n",
    "Base.size(ising::Ising) = ising.dims\n",
    "Base.length(ising::Ising) = prod(ising.dims)"
   ]
  },
  {
   "cell_type": "markdown",
   "metadata": {},
   "source": [
    "Here ${D}$ is a paramters which will denote the dimension of the Ising model we want to study. "
   ]
  },
  {
   "cell_type": "code",
   "execution_count": null,
   "metadata": {},
   "outputs": [],
   "source": []
  }
 ],
 "metadata": {
  "@webio": {
   "lastCommId": "93b622bc4fcc45c580785513742b3e4e",
   "lastKernelId": "71fae443-4f3b-4fb5-ad8c-9824833285cd"
  },
  "kernelspec": {
   "display_name": "Julia 1.1.0",
   "language": "julia",
   "name": "julia-1.1"
  },
  "language_info": {
   "file_extension": ".jl",
   "mimetype": "application/julia",
   "name": "julia",
   "version": "1.1.0"
  }
 },
 "nbformat": 4,
 "nbformat_minor": 2
}
